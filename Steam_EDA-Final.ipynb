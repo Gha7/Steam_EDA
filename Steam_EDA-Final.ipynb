{
 "cells": [
  {
   "cell_type": "code",
   "execution_count": null,
   "id": "9ee0246c",
   "metadata": {},
   "outputs": [],
   "source": [
    "import pandas as pd\n",
    "import numpy as np\n",
    "import matplotlib.pyplot as plt\n",
    "import seaborn as sns\n",
    "import plotly.express as px\n",
    "\n",
    "\n",
    "db = pd.read_csv (\"steam.csv\")"
   ]
  },
  {
   "cell_type": "markdown",
   "id": "fccf4c14",
   "metadata": {},
   "source": [
    "### Inspecting and preparing data"
   ]
  },
  {
   "cell_type": "code",
   "execution_count": null,
   "id": "c5f827e0",
   "metadata": {},
   "outputs": [],
   "source": [
    "# view the first 5 rows of dataset.\n",
    "db.head()"
   ]
  },
  {
   "cell_type": "code",
   "execution_count": null,
   "id": "22880139",
   "metadata": {},
   "outputs": [],
   "source": [
    "# viwe informations about dataframe like dtype of index and non-null values.\n",
    "db.info()"
   ]
  },
  {
   "cell_type": "code",
   "execution_count": null,
   "id": "77c41c6d",
   "metadata": {},
   "outputs": [],
   "source": [
    "# this method used for calculating some statistical data.\n",
    "db.describe()"
   ]
  },
  {
   "cell_type": "code",
   "execution_count": null,
   "id": "ada0a418",
   "metadata": {},
   "outputs": [],
   "source": [
    "# check if there's null value.\n",
    "db.isnull().sum()"
   ]
  },
  {
   "cell_type": "markdown",
   "id": "70caf5f1",
   "metadata": {},
   "source": [
    "### change owners coulmn to avg_owners."
   ]
  },
  {
   "cell_type": "code",
   "execution_count": null,
   "id": "9a540c58",
   "metadata": {},
   "outputs": [],
   "source": [
    "# as seen above in db.info() that owners column type is object\n",
    "# now we will change the type of the column to int and calculate the average by using lambda with .apply() .\n",
    "db['owners'] = db['owners'].str.split('-').apply(lambda x: (int(x[0]) + int(x[1]))/2).astype(int)\n",
    "db.rename(columns = {'owners':'avg_owners'}, inplace = True)\n",
    "\n"
   ]
  },
  {
   "cell_type": "markdown",
   "id": "63b4091e",
   "metadata": {},
   "source": [
    "### change release_date and add new coulmn (years)."
   ]
  },
  {
   "cell_type": "code",
   "execution_count": null,
   "id": "88b96fc2",
   "metadata": {},
   "outputs": [],
   "source": [
    "#creat a new coulmn that has just years from release_date.\n",
    "db['years'] = pd.DatetimeIndex(db['release_date']).year\n",
    "db.info()"
   ]
  },
  {
   "cell_type": "markdown",
   "id": "76ae6733",
   "metadata": {},
   "source": [
    "### Calculate total profit"
   ]
  },
  {
   "cell_type": "code",
   "execution_count": null,
   "id": "64c68199",
   "metadata": {},
   "outputs": [],
   "source": [
    "# create total_price and multiplication avg_owners by price.\n",
    "db['total_profit'] = db['avg_owners']*db['price'].astype(int)\n",
    "db.head()"
   ]
  },
  {
   "cell_type": "markdown",
   "id": "d96ad7bf",
   "metadata": {},
   "source": [
    "### check heatmap"
   ]
  },
  {
   "cell_type": "code",
   "execution_count": null,
   "id": "7405adff",
   "metadata": {},
   "outputs": [],
   "source": [
    "# change size for heatmap.\n",
    "sns.set(rc = {'figure.figsize':(16,10)})\n",
    "# show heatmap.\n",
    "sns.heatmap(db.corr(), annot=True);"
   ]
  },
  {
   "cell_type": "code",
   "execution_count": null,
   "id": "f0d36f94",
   "metadata": {},
   "outputs": [],
   "source": [
    "# Drop all columns that not useful for my projecr.\n",
    "db.drop(columns='appid', inplace = True)\n",
    "db.drop(columns='english', inplace = True)\n",
    "db.drop(columns='developer', inplace = True)\n",
    "db.drop(columns='publisher', inplace = True)\n",
    "db.drop(columns='platforms', inplace = True)\n",
    "db.drop(columns='required_age', inplace = True)\n",
    "db.drop(columns='steamspy_tags', inplace = True)\n",
    "db.drop(columns='achievements', inplace = True)\n",
    "db.drop(columns='average_playtime', inplace = True)\n",
    "db.drop(columns='median_playtime', inplace = True)\n",
    "# view the new data after dropping columns.\n",
    "db"
   ]
  },
  {
   "cell_type": "markdown",
   "id": "1b330438",
   "metadata": {},
   "source": [
    "# Questions:\n",
    "\n",
    "## In the last 5 years, what are the most games that has the highest positive ratings?\n"
   ]
  },
  {
   "cell_type": "code",
   "execution_count": null,
   "id": "7ceeab95",
   "metadata": {},
   "outputs": [],
   "source": [
    "# creating a new column that has filtered descendingly, by column years.\n",
    "sort_years = db.sort_values(\"years\",ascending=False)\n",
    "\n",
    "# sort years to show me just years >= 2014 .\n",
    "sort_years = sort_years[sort_years['years']>=2014]\n",
    "\n",
    "#after sorting years, sort rating descendingly.\n",
    "sort_ratings = sort_years.sort_values(\"positive_ratings\",ascending=False).head(10)\n",
    "\n",
    "# visualize name and ratings.\n",
    "\n",
    "fig = px.bar(sort_ratings,x='name' , y='positive_ratings',title='Top 10 games')\n",
    "fig.show()"
   ]
  },
  {
   "cell_type": "markdown",
   "id": "492c8892",
   "metadata": {},
   "source": [
    "## In the last 5 years, what are the most genres based on the number of owners?"
   ]
  },
  {
   "cell_type": "code",
   "execution_count": null,
   "id": "83d59935",
   "metadata": {},
   "outputs": [],
   "source": [
    "# show most unique genres.\n",
    "sort_years['genres'].value_counts().head()"
   ]
  },
  {
   "cell_type": "code",
   "execution_count": null,
   "id": "27f362a8",
   "metadata": {},
   "outputs": [],
   "source": [
    "# create most_genres1,mo.... to contain the top 5 unique genres.\n",
    "most_genres1 = sort_years['genres'].str.contains('Action;Indie')\n",
    "most_genres2 = sort_years['genres'].str.contains('Casual;Indie')\n",
    "most_genres3 = sort_years['genres'].str.contains('Action;Adventure;Indie')\n",
    "most_genres4 = sort_years['genres'].str.contains('Adventure;Indie')\n",
    "most_genres5 = sort_years['genres'].str.contains('Action;Casual;Indie')\n",
    "\n",
    "# in all that unique genres give me sum of avg_owners.\n",
    "most_genres_owners1 = sort_years[most_genres1].avg_owners.sum()\n",
    "most_genres_owners2 = sort_years[most_genres2].avg_owners.sum()\n",
    "most_genres_owners3 = sort_years[most_genres3].avg_owners.sum()\n",
    "most_genres_owners4 = sort_years[most_genres4].avg_owners.sum()\n",
    "most_genres_owners5 = sort_years[most_genres5].avg_owners.sum()\n",
    "\n",
    "# visualize as pie.\n",
    "data = [most_genres_owners1, most_genres_owners2, most_genres_owners3, most_genres_owners4, most_genres_owners5]\n",
    "labels = ['Action;Indie', 'Casual;Indie', 'Action;Adventure;Indie', 'Adventure;Indie', 'Action;Casual;Indie']\n",
    "\n",
    "fig = px.pie( values=data, names=labels, title='Most genres in the last 5 years')\n",
    "fig.show()"
   ]
  },
  {
   "cell_type": "markdown",
   "id": "dff207e7",
   "metadata": {},
   "source": [
    "## In the last 5 years, Does the game affect the number of owners if it's a Single-Player or Multi-Player?"
   ]
  },
  {
   "cell_type": "code",
   "execution_count": null,
   "id": "766168ac",
   "metadata": {},
   "outputs": [],
   "source": [
    "# create variables to return only rows contains (something i choose).\n",
    "Single_Player = sort_years['categories'].str.contains('Single-player')\n",
    "Multi_Player = sort_years['categories'].str.contains('Multi-player')\n",
    "S_M = sort_years['categories'].str.contains('Single-player','Multi-player')\n",
    "\n",
    "# make this variables return sum of avg_owners.\n",
    "Single_Player_owners = sort_years[Single_Player].avg_owners.sum()\n",
    "Multi_Player_owners = sort_years[Multi_Player].avg_owners.sum()\n",
    "S_M_O = sort_years[S_M].avg_owners.sum()\n",
    "\n",
    "# visualize as pie.\n",
    "data = [Single_Player_owners, Multi_Player_owners, S_M_O]\n",
    "labels = ['Single Player', 'Multi Player', 'Both']\n",
    "\n",
    "fig = px.pie( values= data, names=labels, title='Single Player - Multi Player')\n",
    "fig.show()"
   ]
  },
  {
   "cell_type": "markdown",
   "id": "163653d3",
   "metadata": {},
   "source": [
    "## In the last 5 years, Does the game, if it's free or paid, affect on the number of owners?"
   ]
  },
  {
   "cell_type": "code",
   "execution_count": null,
   "id": "526ee869",
   "metadata": {},
   "outputs": [],
   "source": [
    "# sort paid games\n",
    "paid = sort_years[sort_years['price']>0.0]\n",
    "paid_owners = paid.avg_owners.sum()\n",
    "\n",
    "#sort free games\n",
    "free = sort_years[sort_years['price']== 0.0]\n",
    "free_owners = free.avg_owners.sum()\n",
    "\n",
    "# visualize as bar.\n",
    "data = [paid_owners, free_owners]\n",
    "labels = ['Paid', 'Free']\n",
    "\n",
    "fig = px.bar(x=labels, y=data , title= 'Owners')\n",
    "                                                                \n",
    "fig.show()\n"
   ]
  },
  {
   "cell_type": "markdown",
   "id": "dbbf1b97",
   "metadata": {},
   "source": [
    "## In the last 5 years, what about total profit."
   ]
  },
  {
   "cell_type": "code",
   "execution_count": null,
   "id": "995d67af",
   "metadata": {},
   "outputs": [],
   "source": [
    "# Calculate total profit and visualize as bar.\n",
    "fig = px.bar(sort_ratings,x='name', y='total_profit' )\n",
    "fig.show()"
   ]
  }
 ],
 "metadata": {
  "kernelspec": {
   "display_name": "Python 3",
   "language": "python",
   "name": "python3"
  },
  "language_info": {
   "codemirror_mode": {
    "name": "ipython",
    "version": 3
   },
   "file_extension": ".py",
   "mimetype": "text/x-python",
   "name": "python",
   "nbconvert_exporter": "python",
   "pygments_lexer": "ipython3",
   "version": "3.8.8"
  }
 },
 "nbformat": 4,
 "nbformat_minor": 5
}
